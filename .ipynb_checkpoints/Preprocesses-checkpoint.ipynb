{
 "cells": [
  {
   "cell_type": "code",
   "execution_count": 4,
   "id": "b0a4eb9d",
   "metadata": {},
   "outputs": [],
   "source": [
    "import re\n",
    "import os\n",
    "import sys\n",
    "import json\n",
    "\n",
    "import pandas as pd\n",
    "import numpy as np\n",
    "import spacy\n",
    "from spacy.lang.en.stop_words import STOP_WORDS as stopwords\n",
    "from bs4 import BeautifulSoup\n",
    "import unicodedata\n",
    "from textblob import TextBlob\n",
    "\n",
    "from sklearn.feature_extraction.text import CountVectorizer\n",
    "import spacy\n",
    "nlp = spacy.load('en_core_web_sm')"
   ]
  },
  {
   "cell_type": "code",
   "execution_count": 5,
   "id": "15c8e945",
   "metadata": {},
   "outputs": [],
   "source": [
    "def get_wordcounts(x):\n",
    "    length = len(str(x).split())\n",
    "    return length"
   ]
  },
  {
   "cell_type": "code",
   "execution_count": 6,
   "id": "1f694e7a",
   "metadata": {},
   "outputs": [],
   "source": [
    "def get_charcounts(x):\n",
    "    s = x.split()\n",
    "    x = ''.join(s)\n",
    "    return len(x)"
   ]
  },
  {
   "cell_type": "code",
   "execution_count": 7,
   "id": "acd9ece9",
   "metadata": {},
   "outputs": [],
   "source": [
    "def _get_avg_wordlength(x):\n",
    "    count = _get_charcounts(x)/_get_wordcounts(x)\n",
    "    return count"
   ]
  },
  {
   "cell_type": "code",
   "execution_count": 8,
   "id": "df98b8a3",
   "metadata": {},
   "outputs": [],
   "source": [
    "def _get_stopwords_counts(x):\n",
    "    l = len([t for t in x.split() if t in stopwords])\n",
    "    return l"
   ]
  },
  {
   "cell_type": "code",
   "execution_count": 9,
   "id": "a274f2a1",
   "metadata": {},
   "outputs": [],
   "source": [
    "def _get_hashtag_counts(x):\n",
    "    l = len([t for t in x.split() if t.startswith('#')])\n",
    "    return l"
   ]
  },
  {
   "cell_type": "code",
   "execution_count": 10,
   "id": "65562781",
   "metadata": {},
   "outputs": [],
   "source": [
    "def _get_mentions_counts(x):\n",
    "    l = len([t for t in x.split() if t.startswith('@')])\n",
    "    return l"
   ]
  },
  {
   "cell_type": "code",
   "execution_count": 11,
   "id": "361f9da3",
   "metadata": {},
   "outputs": [],
   "source": [
    "def _get_digit_counts(x):\n",
    "    digits = re.findall(r'[0-9,.]+', x)\n",
    "    return len(digits)"
   ]
  },
  {
   "cell_type": "code",
   "execution_count": 12,
   "id": "6edce5fa",
   "metadata": {},
   "outputs": [],
   "source": [
    "def _get_uppercase_counts(x):\n",
    "     return len([t for t in x.split() if t.isupper()])"
   ]
  },
  {
   "cell_type": "code",
   "execution_count": 13,
   "id": "e88d5113",
   "metadata": {},
   "outputs": [],
   "source": [
    "def _get_emails(x):\n",
    "    emails = re.findall(r'([a-z0-9+._-]+@[a-z0-9+._-]+\\.[a-z0-9+_-]+\\b)', x)\n",
    "    counts = len(emails)\n",
    "\n",
    "    return counts, emails"
   ]
  },
  {
   "cell_type": "code",
   "execution_count": 14,
   "id": "644dfd37",
   "metadata": {},
   "outputs": [],
   "source": [
    "def _get_urls(x):\n",
    "    urls = re.findall(r'(http|https|ftp|ssh)://([\\w_-]+(?:(?:\\.[\\w_-]+)+))([\\w.,@?^=%&:/~+#-]*[\\w@?^=%&/~+#-])?', x)\n",
    "    counts = len(urls)\n",
    "\n",
    "    return counts, urls"
   ]
  },
  {
   "cell_type": "code",
   "execution_count": 15,
   "id": "5f6f146c",
   "metadata": {},
   "outputs": [],
   "source": [
    "def _get_basic_features(df):\n",
    "    if type(df) == pd.core.frame.DataFrame:\n",
    "        df['char_counts'] = df['text'].apply(lambda x: _get_charcounts(x))\n",
    "        df['word_counts'] = df['text'].apply(lambda x: _get_wordcounts(x))\n",
    "        df['avg_wordlength'] = df['text'].apply(lambda x: _get_avg_wordlength(x))\n",
    "        df['stopwords_counts'] = df['text'].apply(lambda x: _get_stopwords_counts(x))\n",
    "        df['hashtag_counts'] = df['text'].apply(lambda x: _get_hashtag_counts(x))\n",
    "        df['mentions_counts'] = df['text'].apply(lambda x: _get_mentions_counts(x))\n",
    "        df['digits_counts'] = df['text'].apply(lambda x: _get_digit_counts(x))\n",
    "        df['uppercase_counts'] = df['text'].apply(lambda x: _get_uppercase_counts(x))\n",
    "    else:\n",
    "        print('ERROR: This function takes only Pandas DataFrame')\n",
    "    \n",
    "    return df"
   ]
  },
  {
   "cell_type": "code",
   "execution_count": 16,
   "id": "bc5c9b02",
   "metadata": {},
   "outputs": [],
   "source": [
    "#Removing\n",
    "\n",
    "def _remove_emails(x):\n",
    "    return re.sub(r'([a-z0-9+._-]+@[a-z0-9+._-]+\\.[a-z0-9+_-]+)',\"\", x)\n",
    "\n",
    "\n",
    "def _remove_urls(x):\n",
    "    return re.sub(r'(http|https|ftp|ssh)://([\\w_-]+(?:(?:\\.[\\w_-]+)+))([\\w.,@?^=%&:/~+#-]*[\\w@?^=%&/~+#-])?', '' , x)\n",
    "\n",
    "def _remove_rt(x):\n",
    "    return re.sub(r'\\brt\\b', '', x).strip()\n",
    "\n",
    "def _remove_special_chars(x):\n",
    "    x = re.sub(r'[^\\w ]+', \"\", x)\n",
    "    x = ' '.join(x.split())\n",
    "    return x\n",
    "\n",
    "def _remove_html_tags(x):\n",
    "    return BeautifulSoup(x, 'lxml').get_text().strip()\n",
    "\n",
    "def _remove_accented_chars(x):\n",
    "    x = unicodedata.normalize('NFKD', x).encode('ascii', 'ignore').decode('utf-8', 'ignore')\n",
    "    return x\n",
    "\n",
    "def _remove_stopwords(x):\n",
    "    return ' '.join([t for t in x.split() if t not in stopwords])"
   ]
  },
  {
   "cell_type": "code",
   "execution_count": 17,
   "id": "eebb78d5",
   "metadata": {},
   "outputs": [],
   "source": [
    "def _make_base(x):\n",
    "    x = str(x)\n",
    "    x_list = []\n",
    "    doc = nlp(x)\n",
    "    \n",
    "    for token in doc:\n",
    "        lemma = token.lemma_\n",
    "        if lemma == '-PRON-' or lemma == 'be':\n",
    "            lemma = token.text\n",
    "        \n",
    "        x_list.append(lemma)\n",
    "    return ' '.join(x_list)"
   ]
  },
  {
   "cell_type": "code",
   "execution_count": 18,
   "id": "1caaba99",
   "metadata": {},
   "outputs": [],
   "source": [
    "def _get_value_counts(df, col):\n",
    "    text = ' '.join(df[col])\n",
    "    text = text.split()\n",
    "    freq = pd.Series(text).value_counts()\n",
    "    return freq"
   ]
  },
  {
   "cell_type": "code",
   "execution_count": 19,
   "id": "05cdb105",
   "metadata": {},
   "outputs": [],
   "source": [
    "def _remove_common_words(x, freq, n=20):\n",
    "    fn = freq[:n]\n",
    "    x = ' '.join([t for t in x.split() if t not in fn])\n",
    "    return x"
   ]
  },
  {
   "cell_type": "code",
   "execution_count": 20,
   "id": "eec5bd89",
   "metadata": {},
   "outputs": [],
   "source": [
    "def _remove_rarewords(x, freq, n=20):\n",
    "    fn = freq.tail(n)\n",
    "    x = ' '.join([t for t in x.split() if t not in fn])\n",
    "    return x"
   ]
  },
  {
   "cell_type": "code",
   "execution_count": 21,
   "id": "75818659",
   "metadata": {},
   "outputs": [],
   "source": [
    "def _remove_dups_char(x):\n",
    "    x = re.sub(\"(.)\\\\1{2,}\", \"\\\\1\", x)\n",
    "    return x"
   ]
  },
  {
   "cell_type": "code",
   "execution_count": 22,
   "id": "fd1793c7",
   "metadata": {},
   "outputs": [],
   "source": [
    "def _spelling_correction(x):\n",
    "    x = TextBlob(x).correct()\n",
    "    return x"
   ]
  },
  {
   "cell_type": "code",
   "execution_count": 23,
   "id": "0b5cf96c",
   "metadata": {},
   "outputs": [],
   "source": [
    "def _get_ngram(df, col, ngram_range):\n",
    "    vectorizer = CountVectorizer(ngram_range=(ngram_range, ngram_range))\n",
    "    vectorizer.fit_transform(df[col])\n",
    "    ngram = vectorizer.vocabulary_\n",
    "    ngram = sorted(ngram.items(), key = lambda x: x[1], reverse=True)\n",
    "\n",
    "    return ngram"
   ]
  },
  {
   "cell_type": "code",
   "execution_count": 24,
   "id": "8fc9701d",
   "metadata": {},
   "outputs": [
    {
     "ename": "NameError",
     "evalue": "name '__file__' is not defined",
     "output_type": "error",
     "traceback": [
      "\u001b[1;31m---------------------------------------------------------------------------\u001b[0m",
      "\u001b[1;31mNameError\u001b[0m                                 Traceback (most recent call last)",
      "Cell \u001b[1;32mIn[24], line 1\u001b[0m\n\u001b[1;32m----> 1\u001b[0m path \u001b[38;5;241m=\u001b[39m os\u001b[38;5;241m.\u001b[39mpath\u001b[38;5;241m.\u001b[39mdirname(os\u001b[38;5;241m.\u001b[39mpath\u001b[38;5;241m.\u001b[39mabspath(\u001b[38;5;18;43m__file__\u001b[39;49m))\n\u001b[0;32m      2\u001b[0m abbreviations_path \u001b[38;5;241m=\u001b[39m os\u001b[38;5;241m.\u001b[39mpath\u001b[38;5;241m.\u001b[39mjoin(path, \u001b[38;5;124m'\u001b[39m\u001b[38;5;124mdata\u001b[39m\u001b[38;5;124m'\u001b[39m,\u001b[38;5;124m'\u001b[39m\u001b[38;5;124mabbreviations_wordlist.json\u001b[39m\u001b[38;5;124m'\u001b[39m)\n\u001b[0;32m      4\u001b[0m \u001b[38;5;28;01mdef\u001b[39;00m \u001b[38;5;21m_cont_exp\u001b[39m(x):\n",
      "\u001b[1;31mNameError\u001b[0m: name '__file__' is not defined"
     ]
    }
   ],
   "source": [
    "path = os.path.dirname(os.path.abspath(__file__))\n",
    "abbreviations_path = os.path.join(path, 'data','abbreviations_wordlist.json')\n",
    "\n",
    "def _cont_exp(x):\n",
    "    abbreviations = json.load(open(abbreviations_path))\n",
    "\n",
    "    if type(x) is str:\n",
    "        for key in abbreviations:\n",
    "            value = abbreviations[key]\n",
    "            raw_text = r'\\b' + key + r'\\b'\n",
    "            x = re.sub(raw_text, value, x)\n",
    "            # print(raw_text,value, x)\n",
    "        return x\n",
    "    else:\n",
    "        return x"
   ]
  }
 ],
 "metadata": {
  "kernelspec": {
   "display_name": "Python 3 (ipykernel)",
   "language": "python",
   "name": "python3"
  },
  "language_info": {
   "codemirror_mode": {
    "name": "ipython",
    "version": 3
   },
   "file_extension": ".py",
   "mimetype": "text/x-python",
   "name": "python",
   "nbconvert_exporter": "python",
   "pygments_lexer": "ipython3",
   "version": "3.9.19"
  }
 },
 "nbformat": 4,
 "nbformat_minor": 5
}
